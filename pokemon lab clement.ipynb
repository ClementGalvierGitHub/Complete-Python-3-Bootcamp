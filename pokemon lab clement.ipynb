{
 "cells": [
  {
   "cell_type": "code",
   "execution_count": 1,
   "id": "e7648614",
   "metadata": {},
   "outputs": [],
   "source": [
    "\n",
    "dsi_lecture_times = {\n",
    "    'WC': {\n",
    "        'LA': {\n",
    "            'M': [9, 2],\n",
    "            'T': [9, 2],\n",
    "            'W': [9, 2],\n",
    "            'Th': [9],\n",
    "            'F': [9]},\n",
    "        'SEA': {\n",
    "            'M': [9, 2],\n",
    "            'T': [9, 2],\n",
    "            'W': [9, 2],\n",
    "            'Th': [9],\n",
    "            'F': [9]},\n",
    "        'DEN': {\n",
    "            'M': [10, 3],\n",
    "            'T': [10, 3],\n",
    "            'W': [10, 3],\n",
    "            'Th': [10],\n",
    "            'F': [10]},\n",
    "        'SF': {\n",
    "            'M': [9, 2],\n",
    "            'T': [9, 2],\n",
    "            'W': [9, 2],\n",
    "            'Th': [9],\n",
    "            'F': [9]}},\n",
    "    'EC': {\n",
    "        'BOS': {\n",
    "            'M': [10, 3],\n",
    "            'T': [10, 3],\n",
    "            'W': [10, 3],\n",
    "            'Th': [10],\n",
    "            'F': [10]},\n",
    "        'NYC': {\n",
    "            'M': [10, 3],\n",
    "            'T': [10, 3],\n",
    "            'W': [10, 3],\n",
    "            'Th': [10],\n",
    "            'F': [10]},\n",
    "        'DC': {\n",
    "            'M': [10, 3],\n",
    "            'T': [10, 3],\n",
    "            'W': [10, 3],\n",
    "            'Th': [10],\n",
    "            'F': [10]},\n",
    "        'ATX': {\n",
    "            'M': [9, 2],\n",
    "            'T': [9, 2],\n",
    "            'W': [9, 2],\n",
    "            'Th': [9],\n",
    "            'F': [9]},\n",
    "        'CHI': {\n",
    "            'M': [9, 2],\n",
    "            'T': [9, 2],\n",
    "            'W': [9, 2],\n",
    "            'Th': [9],\n",
    "            'F': [9]},\n",
    "        'ATL': {\n",
    "            'M': [10, 3],\n",
    "            'T': [10, 3],\n",
    "            'W': [10, 3],\n",
    "            'Th': [10],\n",
    "            'F': [10]}}\n",
    "    }"
   ]
  },
  {
   "cell_type": "code",
   "execution_count": 2,
   "id": "fd25693d",
   "metadata": {},
   "outputs": [
    {
     "data": {
      "text/plain": [
       "{'WC': {'LA': {'M': [9, 2], 'T': [9, 2], 'W': [9, 2], 'Th': [9], 'F': [9]},\n",
       "  'SEA': {'M': [9, 2], 'T': [9, 2], 'W': [9, 2], 'Th': [9], 'F': [9]},\n",
       "  'DEN': {'M': [10, 3], 'T': [10, 3], 'W': [10, 3], 'Th': [10], 'F': [10]},\n",
       "  'SF': {'M': [9, 2], 'T': [9, 2], 'W': [9, 2], 'Th': [9], 'F': [9]}},\n",
       " 'EC': {'BOS': {'M': [10, 3],\n",
       "   'T': [10, 3],\n",
       "   'W': [10, 3],\n",
       "   'Th': [10],\n",
       "   'F': [10]},\n",
       "  'NYC': {'M': [10, 3], 'T': [10, 3], 'W': [10, 3], 'Th': [10], 'F': [10]},\n",
       "  'DC': {'M': [10, 3], 'T': [10, 3], 'W': [10, 3], 'Th': [10], 'F': [10]},\n",
       "  'ATX': {'M': [9, 2], 'T': [9, 2], 'W': [9, 2], 'Th': [9], 'F': [9]},\n",
       "  'CHI': {'M': [9, 2], 'T': [9, 2], 'W': [9, 2], 'Th': [9], 'F': [9]},\n",
       "  'ATL': {'M': [10, 3], 'T': [10, 3], 'W': [10, 3], 'Th': [10], 'F': [10]}}}"
      ]
     },
     "execution_count": 2,
     "metadata": {},
     "output_type": "execute_result"
    }
   ],
   "source": [
    "dsi_lecture_times"
   ]
  },
  {
   "cell_type": "code",
   "execution_count": 3,
   "id": "a1b8280d",
   "metadata": {},
   "outputs": [
    {
     "data": {
      "text/plain": [
       "dict_keys(['WC', 'EC'])"
      ]
     },
     "execution_count": 3,
     "metadata": {},
     "output_type": "execute_result"
    }
   ],
   "source": [
    "dsi_lecture_times.keys()"
   ]
  },
  {
   "cell_type": "markdown",
   "id": "924dc25b",
   "metadata": {},
   "source": [
    "Let's set our objective as accessing the start time of the second Wednesday lecture in Chicago."
   ]
  },
  {
   "cell_type": "code",
   "execution_count": null,
   "id": "664b2928",
   "metadata": {},
   "outputs": [],
   "source": [
    "#lets peel off the onion"
   ]
  },
  {
   "cell_type": "code",
   "execution_count": 6,
   "id": "70f6785c",
   "metadata": {},
   "outputs": [
    {
     "data": {
      "text/plain": [
       "{'BOS': {'M': [10, 3], 'T': [10, 3], 'W': [10, 3], 'Th': [10], 'F': [10]},\n",
       " 'NYC': {'M': [10, 3], 'T': [10, 3], 'W': [10, 3], 'Th': [10], 'F': [10]},\n",
       " 'DC': {'M': [10, 3], 'T': [10, 3], 'W': [10, 3], 'Th': [10], 'F': [10]},\n",
       " 'ATX': {'M': [9, 2], 'T': [9, 2], 'W': [9, 2], 'Th': [9], 'F': [9]},\n",
       " 'CHI': {'M': [9, 2], 'T': [9, 2], 'W': [9, 2], 'Th': [9], 'F': [9]},\n",
       " 'ATL': {'M': [10, 3], 'T': [10, 3], 'W': [10, 3], 'Th': [10], 'F': [10]}}"
      ]
     },
     "execution_count": 6,
     "metadata": {},
     "output_type": "execute_result"
    }
   ],
   "source": [
    "dsi_lecture_times[\"EC\"]"
   ]
  },
  {
   "cell_type": "code",
   "execution_count": 7,
   "id": "97e78c82",
   "metadata": {},
   "outputs": [
    {
     "data": {
      "text/plain": [
       "{'M': [9, 2], 'T': [9, 2], 'W': [9, 2], 'Th': [9], 'F': [9]}"
      ]
     },
     "execution_count": 7,
     "metadata": {},
     "output_type": "execute_result"
    }
   ],
   "source": [
    "dsi_lecture_times[\"EC\"][\"CHI\"]"
   ]
  },
  {
   "cell_type": "code",
   "execution_count": 8,
   "id": "ab5f9da3",
   "metadata": {},
   "outputs": [
    {
     "data": {
      "text/plain": [
       "2"
      ]
     },
     "execution_count": 8,
     "metadata": {},
     "output_type": "execute_result"
    }
   ],
   "source": [
    "dsi_lecture_times[\"EC\"][\"CHI\"][\"W\"][1]"
   ]
  },
  {
   "cell_type": "markdown",
   "id": "3d296ae4",
   "metadata": {},
   "source": [
    "Defining structure of the game using dictionaries"
   ]
  },
  {
   "cell_type": "code",
   "execution_count": 129,
   "id": "5e8c2160",
   "metadata": {},
   "outputs": [],
   "source": [
    "#define 1st player\n",
    "player_1 = {\"player_id\":1,\"player_name\":None,\"time_played\":0.00,\"player_pokemon\":{},\"gyms_visited\":[]}"
   ]
  },
  {
   "cell_type": "code",
   "execution_count": 130,
   "id": "9b8e42e5",
   "metadata": {},
   "outputs": [
    {
     "data": {
      "text/plain": [
       "{'player_id': 1,\n",
       " 'player_name': None,\n",
       " 'time_played': 0.0,\n",
       " 'player_pokemon': {},\n",
       " 'gyms_visited': []}"
      ]
     },
     "execution_count": 130,
     "metadata": {},
     "output_type": "execute_result"
    }
   ],
   "source": [
    "player_1"
   ]
  },
  {
   "cell_type": "code",
   "execution_count": 131,
   "id": "69640ee1",
   "metadata": {},
   "outputs": [],
   "source": [
    "#define meta dictionary with only player1 in:\n",
    "poke_players = {\"key1\":player_1}"
   ]
  },
  {
   "cell_type": "code",
   "execution_count": 132,
   "id": "6a81e879",
   "metadata": {},
   "outputs": [],
   "source": [
    "# changing player1's name to our own using nested dictionaries\n",
    "poke_players[\"key1\"][\"player_name\"] = \"clement\""
   ]
  },
  {
   "cell_type": "code",
   "execution_count": 133,
   "id": "12e33ecd",
   "metadata": {},
   "outputs": [
    {
     "data": {
      "text/plain": [
       "{'player_id': 1,\n",
       " 'player_name': 'clement',\n",
       " 'time_played': 0.0,\n",
       " 'player_pokemon': {},\n",
       " 'gyms_visited': []}"
      ]
     },
     "execution_count": 133,
     "metadata": {},
     "output_type": "execute_result"
    }
   ],
   "source": [
    "#runnning the code to check\n",
    "poke_players[\"key1\"]"
   ]
  },
  {
   "cell_type": "code",
   "execution_count": 134,
   "id": "599e86d4",
   "metadata": {},
   "outputs": [],
   "source": [
    "#Define a function that adds a player to poke_players.\n",
    "#Your function should...\n",
    "\n",
    "#Take arguments for players_dict, player_id, and player_name.\n",
    "#Create a player with the above values and populate the gyms_visited, player_pokemon, and time_played accordingly.\n",
    "#Add a second player to the players dictionary. The id should be 2, but the name is up to you!\n",
    "#Reassign and overwrite the poke_players dictionary.\n",
    "#Print the name of the player added."
   ]
  },
  {
   "cell_type": "code",
   "execution_count": 135,
   "id": "ac20b39e",
   "metadata": {},
   "outputs": [
    {
     "data": {
      "text/plain": [
       "{'key1': {'player_id': 1,\n",
       "  'player_name': 'clement',\n",
       "  'time_played': 0.0,\n",
       "  'player_pokemon': {},\n",
       "  'gyms_visited': []}}"
      ]
     },
     "execution_count": 135,
     "metadata": {},
     "output_type": "execute_result"
    }
   ],
   "source": [
    "poke_players"
   ]
  },
  {
   "cell_type": "code",
   "execution_count": 136,
   "id": "ce2892d9",
   "metadata": {},
   "outputs": [],
   "source": [
    "  def add_player(players_dict, player_id, player_name):\n",
    "    new_player = {\"player_id\":player_id, \"player_name\":player_name,\"time_played\":0.00,\"player_pokemon\":{},\"gyms_visited\":[]}\n",
    "    players_dict[player_id] = new_player"
   ]
  },
  {
   "cell_type": "code",
   "execution_count": 137,
   "id": "0b0bd694",
   "metadata": {},
   "outputs": [],
   "source": [
    "add_player(poke_players,2,\"Vincent\")"
   ]
  },
  {
   "cell_type": "code",
   "execution_count": 138,
   "id": "fa983dbd",
   "metadata": {},
   "outputs": [
    {
     "data": {
      "text/plain": [
       "{'key1': {'player_id': 1,\n",
       "  'player_name': 'clement',\n",
       "  'time_played': 0.0,\n",
       "  'player_pokemon': {},\n",
       "  'gyms_visited': []},\n",
       " 3: {'player_id': 3,\n",
       "  'player_name': 'Vincent',\n",
       "  'time_played': 0.0,\n",
       "  'player_pokemon': {},\n",
       "  'gyms_visited': []}}"
      ]
     },
     "execution_count": 138,
     "metadata": {},
     "output_type": "execute_result"
    }
   ],
   "source": [
    "poke_players"
   ]
  },
  {
   "cell_type": "markdown",
   "id": "9f066035",
   "metadata": {},
   "source": [
    " Defining \"gym\" locations"
   ]
  },
  {
   "cell_type": "code",
   "execution_count": 139,
   "id": "22644b94",
   "metadata": {},
   "outputs": [],
   "source": [
    "list_gym_locations = [ \n",
    "'reddit.com',\n",
    "'amazon.com',\n",
    "'twitter.com',\n",
    "'linkedin.com',\n",
    "'ebay.com',\n",
    "'netflix.com',\n",
    "'stackoverflow.com',\n",
    "'github.com',\n",
    "'quora.com',\n",
    "'google.com',\n",
    "]"
   ]
  },
  {
   "cell_type": "code",
   "execution_count": 140,
   "id": "8555737c",
   "metadata": {},
   "outputs": [
    {
     "data": {
      "text/plain": [
       "['reddit.com',\n",
       " 'amazon.com',\n",
       " 'twitter.com',\n",
       " 'linkedin.com',\n",
       " 'ebay.com',\n",
       " 'netflix.com',\n",
       " 'stackoverflow.com',\n",
       " 'github.com',\n",
       " 'quora.com',\n",
       " 'google.com']"
      ]
     },
     "execution_count": 140,
     "metadata": {},
     "output_type": "execute_result"
    }
   ],
   "source": [
    "list_gym_locations # test the list"
   ]
  },
  {
   "cell_type": "code",
   "execution_count": 141,
   "id": "d5e014e6",
   "metadata": {},
   "outputs": [],
   "source": [
    "from random import sample # use the new method from random module \n",
    "\n",
    "for x in poke_players.keys(): # x will be an integer representing player_id\n",
    "    poke_players[x][\"gyms_visited\"] = sample(list_gym_locations,2) # we assign 2 gyms visited per player\n"
   ]
  },
  {
   "cell_type": "code",
   "execution_count": 142,
   "id": "241f1dd9",
   "metadata": {},
   "outputs": [
    {
     "data": {
      "text/plain": [
       "{'key1': {'player_id': 1,\n",
       "  'player_name': 'clement',\n",
       "  'time_played': 0.0,\n",
       "  'player_pokemon': {},\n",
       "  'gyms_visited': ['github.com', 'amazon.com']},\n",
       " 3: {'player_id': 3,\n",
       "  'player_name': 'Vincent',\n",
       "  'time_played': 0.0,\n",
       "  'player_pokemon': {},\n",
       "  'gyms_visited': ['stackoverflow.com', 'quora.com']}}"
      ]
     },
     "execution_count": 142,
     "metadata": {},
     "output_type": "execute_result"
    }
   ],
   "source": [
    "poke_players"
   ]
  },
  {
   "cell_type": "markdown",
   "id": "35936795",
   "metadata": {},
   "source": [
    "3 - Create Pokedex\n"
   ]
  },
  {
   "cell_type": "code",
   "execution_count": 143,
   "id": "82699ac3",
   "metadata": {},
   "outputs": [],
   "source": [
    "\n",
    "#3A create a function called create_pokemon\n",
    "import numpy as np\n",
    "\n",
    "def create_pokemon (poke_id, poke_name, poke_type):\n",
    "    return {\"poke_id\": poke_id, \n",
    "            \"poke_name\": poke_name, \n",
    "            \"poke_type\": poke_type, \n",
    "            \"hp\": np.random.randint(400,500), \n",
    "            \"attack\": np.random.randint(50 , 100), \n",
    "            \"defense\": np.random.randint(50 ,100),\n",
    "            \"special_attack\": np.random.randint(100, 150), \n",
    "            \"special_defense\": np.random.randint(100 , 150),\n",
    "            \"speed\": np.random.randint(0, 100)}"
   ]
  },
  {
   "cell_type": "code",
   "execution_count": 146,
   "id": "f2dc43b3",
   "metadata": {},
   "outputs": [
    {
     "data": {
      "text/plain": [
       "{'poke_id': 1,\n",
       " 'poke_name': 'Charmander',\n",
       " 'poke_type': 'fire',\n",
       " 'hp': 418,\n",
       " 'attack': 71,\n",
       " 'defense': 86,\n",
       " 'special_attack': 117,\n",
       " 'special_defense': 100,\n",
       " 'speed': 34}"
      ]
     },
     "execution_count": 146,
     "metadata": {},
     "output_type": "execute_result"
    }
   ],
   "source": [
    "create_pokemon(1,\"Charmander\",\"fire\")"
   ]
  },
  {
   "cell_type": "code",
   "execution_count": 147,
   "id": "571a78a8",
   "metadata": {},
   "outputs": [],
   "source": [
    "pokedex = {}"
   ]
  },
  {
   "cell_type": "code",
   "execution_count": 148,
   "id": "69f6fca2",
   "metadata": {},
   "outputs": [
    {
     "data": {
      "text/plain": [
       "dict"
      ]
     },
     "execution_count": 148,
     "metadata": {},
     "output_type": "execute_result"
    }
   ],
   "source": [
    "type(pokedex)"
   ]
  },
  {
   "cell_type": "code",
   "execution_count": 2,
   "id": "f0cd1558",
   "metadata": {},
   "outputs": [],
   "source": [
    "def create_and_add_to_pokedex (pokedex, poke_id, poke_name, poke_type):\n",
    "    create_pokemon()"
   ]
  },
  {
   "cell_type": "code",
   "execution_count": 3,
   "id": "d7c97406",
   "metadata": {},
   "outputs": [
    {
     "ename": "SyntaxError",
     "evalue": "invalid syntax (551470751.py, line 1)",
     "output_type": "error",
     "traceback": [
      "\u001b[1;36m  Input \u001b[1;32mIn [3]\u001b[1;36m\u001b[0m\n\u001b[1;33m    1\tcharmander\tfire\u001b[0m\n\u001b[1;37m     \t^\u001b[0m\n\u001b[1;31mSyntaxError\u001b[0m\u001b[1;31m:\u001b[0m invalid syntax\n"
     ]
    }
   ],
   "source": [
    "1\tcharmander\tfire\n",
    "2\tsquirtle\twater\n",
    "3\tbulbasaur\tpoison"
   ]
  },
  {
   "cell_type": "code",
   "execution_count": null,
   "id": "464cb835",
   "metadata": {},
   "outputs": [],
   "source": []
  }
 ],
 "metadata": {
  "kernelspec": {
   "display_name": "Python 3 (ipykernel)",
   "language": "python",
   "name": "python3"
  },
  "language_info": {
   "codemirror_mode": {
    "name": "ipython",
    "version": 3
   },
   "file_extension": ".py",
   "mimetype": "text/x-python",
   "name": "python",
   "nbconvert_exporter": "python",
   "pygments_lexer": "ipython3",
   "version": "3.9.12"
  }
 },
 "nbformat": 4,
 "nbformat_minor": 5
}
