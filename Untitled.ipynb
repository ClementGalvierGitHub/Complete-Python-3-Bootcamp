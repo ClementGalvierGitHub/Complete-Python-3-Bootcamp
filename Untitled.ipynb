{
 "cells": [
  {
   "cell_type": "code",
   "execution_count": 4,
   "id": "9fc5fe69",
   "metadata": {},
   "outputs": [
    {
     "name": "stdout",
     "output_type": "stream",
     "text": [
      "hey you have an OS Error\n",
      "I always run\n"
     ]
    }
   ],
   "source": [
    "try:\n",
    "    f = open(\"testfile\",\"r\")\n",
    "    f.write('Write a test line')\n",
    "except TypeError:\n",
    "    print(\"ther was a TypeError\")\n",
    "\n",
    "except OSError:\n",
    "    print(\"hey you have an OS Error\")\n",
    "finally:\n",
    "    print(\"I always run\" )"
   ]
  },
  {
   "cell_type": "code",
   "execution_count": 2,
   "id": "be9bc218",
   "metadata": {},
   "outputs": [],
   "source": [
    "try:\n",
    "    #code we want to try\n",
    "    result = 10 + 10\n",
    "except:    \n",
    "    print(\"Hey it looks like your aren't adding correctly\")"
   ]
  },
  {
   "cell_type": "code",
   "execution_count": 3,
   "id": "3e235e43",
   "metadata": {},
   "outputs": [
    {
     "data": {
      "text/plain": [
       "20"
      ]
     },
     "execution_count": 3,
     "metadata": {},
     "output_type": "execute_result"
    }
   ],
   "source": [
    "result"
   ]
  },
  {
   "cell_type": "code",
   "execution_count": 14,
   "id": "3c7df09f",
   "metadata": {},
   "outputs": [],
   "source": [
    "def ask_for_int():\n",
    "\n",
    "    while True:\n",
    "        try: \n",
    "            result = int( input(\"give me a number: \") )\n",
    "        except:\n",
    "            print(\"whoops, thats not a number \\n\")\n",
    "            continue\n",
    "            \n",
    "        else:\n",
    "            print(\"thank you\")\n",
    "            break\n",
    "        finally:\n",
    "            print(\"end of try\")\n",
    "    "
   ]
  },
  {
   "cell_type": "code",
   "execution_count": 15,
   "id": "95c6963b",
   "metadata": {},
   "outputs": [
    {
     "name": "stdout",
     "output_type": "stream",
     "text": [
      "give me a number: test\n",
      "whoops, thats not a number \n",
      "\n",
      "end of try\n",
      "give me a number: test\n",
      "whoops, thats not a number \n",
      "\n",
      "end of try\n",
      "give me a number: 203\n",
      "thank you\n",
      "end of try\n"
     ]
    }
   ],
   "source": [
    "ask_for_int()"
   ]
  },
  {
   "cell_type": "markdown",
   "id": "07c96f04",
   "metadata": {},
   "source": [
    "Homework"
   ]
  },
  {
   "cell_type": "code",
   "execution_count": 17,
   "id": "79d87439",
   "metadata": {},
   "outputs": [
    {
     "name": "stdout",
     "output_type": "stream",
     "text": [
      "1\n",
      "4\n",
      "9\n",
      "i always run finally\n"
     ]
    }
   ],
   "source": [
    "try:\n",
    "    for i in [1,2,3]:\n",
    "        print(i**2)\n",
    "except TypeError:\n",
    "    print(\"you have a type error, trying to multiply letters with numbers\")\n",
    "    \n",
    "finally:\n",
    "    print(\"i always run finally\")"
   ]
  },
  {
   "cell_type": "code",
   "execution_count": null,
   "id": "e40c64a8",
   "metadata": {},
   "outputs": [],
   "source": [
    "try:\n",
    "    int1 = input(\"give me an integer >0 \")\n",
    "    int2 = input(\"give me an integer >0 \")\n",
    "    z = int1/int2\n",
    "    print(z)\n",
    "    \n",
    "except ZeroDivisionError :\n",
    "    print(\"you have a ZeroDivisionError in your code\")\n",
    "\n",
    "finally:\n",
    "    print(\"I always run\")"
   ]
  },
  {
   "cell_type": "code",
   "execution_count": null,
   "id": "ea9e129b",
   "metadata": {},
   "outputs": [],
   "source": []
  },
  {
   "cell_type": "code",
   "execution_count": null,
   "id": "1f4c8657",
   "metadata": {},
   "outputs": [],
   "source": []
  }
 ],
 "metadata": {
  "kernelspec": {
   "display_name": "Python 3 (ipykernel)",
   "language": "python",
   "name": "python3"
  },
  "language_info": {
   "codemirror_mode": {
    "name": "ipython",
    "version": 3
   },
   "file_extension": ".py",
   "mimetype": "text/x-python",
   "name": "python",
   "nbconvert_exporter": "python",
   "pygments_lexer": "ipython3",
   "version": "3.9.12"
  }
 },
 "nbformat": 4,
 "nbformat_minor": 5
}
