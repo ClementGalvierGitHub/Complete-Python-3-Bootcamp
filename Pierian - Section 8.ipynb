{
 "cells": [
  {
   "cell_type": "code",
   "execution_count": 1,
   "id": "7722225b",
   "metadata": {},
   "outputs": [],
   "source": [
    "class Dog():\n",
    "    #Class object attribute\n",
    "    #same for any instance of a class\n",
    "    \n",
    "    specie = 'mammal'\n",
    "    def __init__(self,breed,name):        \n",
    "        self.breed = breed\n",
    "        self.name = name\n",
    "        \n",
    "    #Operations / actions ---> METHOD\n",
    "    def bark(self):\n",
    "        print(\"woof my name is {}\".format(self.name) )"
   ]
  },
  {
   "cell_type": "code",
   "execution_count": 2,
   "id": "855c5587",
   "metadata": {},
   "outputs": [],
   "source": [
    "my_dog = Dog(\"lab\",'Frankie')"
   ]
  },
  {
   "cell_type": "code",
   "execution_count": 3,
   "id": "e63df258",
   "metadata": {},
   "outputs": [
    {
     "data": {
      "text/plain": [
       "'mammal'"
      ]
     },
     "execution_count": 3,
     "metadata": {},
     "output_type": "execute_result"
    }
   ],
   "source": [
    "my_dog.specie"
   ]
  },
  {
   "cell_type": "code",
   "execution_count": 4,
   "id": "74e76202",
   "metadata": {},
   "outputs": [
    {
     "data": {
      "text/plain": [
       "'Frankie'"
      ]
     },
     "execution_count": 4,
     "metadata": {},
     "output_type": "execute_result"
    }
   ],
   "source": [
    "my_dog.name"
   ]
  },
  {
   "cell_type": "code",
   "execution_count": 5,
   "id": "a77e36df",
   "metadata": {},
   "outputs": [
    {
     "name": "stdout",
     "output_type": "stream",
     "text": [
      "woof my name is Frankie\n"
     ]
    }
   ],
   "source": [
    "my_dog.bark()"
   ]
  },
  {
   "cell_type": "code",
   "execution_count": 6,
   "id": "db331241",
   "metadata": {},
   "outputs": [],
   "source": [
    "class Circle():\n",
    "    #Class object attribute\n",
    "\n",
    "    pi = 3.14\n",
    "    \n",
    "    def __init__(self, radius=1):\n",
    "        self.radius = radius\n",
    "        self.area = radius*radius * self.pi\n",
    "    \n",
    "    #METHOD\n",
    "    def get_circumference (self):\n",
    "        return self.radius *self.pi *2"
   ]
  },
  {
   "cell_type": "code",
   "execution_count": 7,
   "id": "4508dc49",
   "metadata": {},
   "outputs": [],
   "source": [
    "my_circle = Circle(30)"
   ]
  },
  {
   "cell_type": "code",
   "execution_count": 8,
   "id": "0a4a94b4",
   "metadata": {},
   "outputs": [
    {
     "data": {
      "text/plain": [
       "3.14"
      ]
     },
     "execution_count": 8,
     "metadata": {},
     "output_type": "execute_result"
    }
   ],
   "source": [
    "my_circle.pi"
   ]
  },
  {
   "cell_type": "code",
   "execution_count": 9,
   "id": "e2c8d6f7",
   "metadata": {},
   "outputs": [
    {
     "data": {
      "text/plain": [
       "30"
      ]
     },
     "execution_count": 9,
     "metadata": {},
     "output_type": "execute_result"
    }
   ],
   "source": [
    "my_circle.radius"
   ]
  },
  {
   "cell_type": "code",
   "execution_count": 10,
   "id": "9acb7fb8",
   "metadata": {},
   "outputs": [
    {
     "data": {
      "text/plain": [
       "188.4"
      ]
     },
     "execution_count": 10,
     "metadata": {},
     "output_type": "execute_result"
    }
   ],
   "source": [
    "my_circle.get_circumference()"
   ]
  },
  {
   "cell_type": "code",
   "execution_count": 11,
   "id": "bbfc37ba",
   "metadata": {},
   "outputs": [
    {
     "ename": "TypeError",
     "evalue": "'float' object is not callable",
     "output_type": "error",
     "traceback": [
      "\u001b[1;31m---------------------------------------------------------------------------\u001b[0m",
      "\u001b[1;31mTypeError\u001b[0m                                 Traceback (most recent call last)",
      "Input \u001b[1;32mIn [11]\u001b[0m, in \u001b[0;36m<cell line: 1>\u001b[1;34m()\u001b[0m\n\u001b[1;32m----> 1\u001b[0m \u001b[43mmy_circle\u001b[49m\u001b[38;5;241;43m.\u001b[39;49m\u001b[43marea\u001b[49m\u001b[43m(\u001b[49m\u001b[43m)\u001b[49m\n",
      "\u001b[1;31mTypeError\u001b[0m: 'float' object is not callable"
     ]
    }
   ],
   "source": [
    "my_circle.area()"
   ]
  },
  {
   "cell_type": "code",
   "execution_count": null,
   "id": "26b5d75a",
   "metadata": {},
   "outputs": [],
   "source": []
  },
  {
   "cell_type": "markdown",
   "id": "d93d823a",
   "metadata": {},
   "source": [
    "Lesson 71"
   ]
  },
  {
   "cell_type": "code",
   "execution_count": null,
   "id": "666d0f69",
   "metadata": {},
   "outputs": [],
   "source": [
    "class Animal():\n",
    "    def __init__(self):\n",
    "        print(\"ANIMAL CREATED\")\n",
    "        \n",
    "    def who_am_i(self):\n",
    "        print(\"I am an animal\")\n",
    "        \n",
    "    def eat(self):\n",
    "        print(\"I am eating\")\n",
    "\n",
    "        "
   ]
  },
  {
   "cell_type": "code",
   "execution_count": null,
   "id": "e8244a7c",
   "metadata": {},
   "outputs": [],
   "source": [
    "myanimal = Animal()"
   ]
  },
  {
   "cell_type": "code",
   "execution_count": null,
   "id": "4681bc81",
   "metadata": {
    "scrolled": true
   },
   "outputs": [],
   "source": [
    "myanimal.eat()"
   ]
  },
  {
   "cell_type": "code",
   "execution_count": null,
   "id": "74ae4ad7",
   "metadata": {},
   "outputs": [],
   "source": [
    "myanimal.who_am_i()"
   ]
  },
  {
   "cell_type": "code",
   "execution_count": null,
   "id": "1657fd61",
   "metadata": {},
   "outputs": [],
   "source": [
    "class Cat(Animal):\n",
    "    \n",
    "    def __init__(self):\n",
    "        Animal.__init__(self)\n",
    "        print( \"Cat created\")\n",
    "        \n",
    "    def who_am_i(self): # if you want to override the Animal class methods\n",
    "        print(\"I am a cat\")\n",
    "        \n",
    "    def bark(self):\n",
    "        print(\"Meow\")\n",
    "    "
   ]
  },
  {
   "cell_type": "code",
   "execution_count": null,
   "id": "e25bb345",
   "metadata": {},
   "outputs": [],
   "source": [
    "mycat = Cat()"
   ]
  },
  {
   "cell_type": "code",
   "execution_count": null,
   "id": "44486fc1",
   "metadata": {},
   "outputs": [],
   "source": [
    "mycat.who_am_i()"
   ]
  },
  {
   "cell_type": "code",
   "execution_count": null,
   "id": "a6f1fbcc",
   "metadata": {},
   "outputs": [],
   "source": [
    "mycat.bark()"
   ]
  },
  {
   "cell_type": "markdown",
   "id": "d8affc92",
   "metadata": {},
   "source": [
    "Polymorphism"
   ]
  },
  {
   "cell_type": "code",
   "execution_count": null,
   "id": "6926b009",
   "metadata": {},
   "outputs": [],
   "source": [
    "class Cow():\n",
    "    \n",
    "    def __init__(self,name):\n",
    "        self.name = name\n",
    "        \n",
    "    def speak(self):\n",
    "        return self.name + \"says Moooo\""
   ]
  },
  {
   "cell_type": "code",
   "execution_count": null,
   "id": "3285a9eb",
   "metadata": {},
   "outputs": [],
   "source": [
    "class Mouse():\n",
    "    \n",
    "    def __init__(self,name):\n",
    "        self.name = name\n",
    "        \n",
    "    def speak(self):\n",
    "        return self.name + \"says shhhhh\""
   ]
  },
  {
   "cell_type": "code",
   "execution_count": null,
   "id": "f09bde93",
   "metadata": {},
   "outputs": [],
   "source": [
    "niko = Cow(\"Niko\")\n",
    "felix = Mouse(\"Felix\")"
   ]
  },
  {
   "cell_type": "code",
   "execution_count": null,
   "id": "3a1c63bc",
   "metadata": {},
   "outputs": [],
   "source": [
    "print(niko.speak())"
   ]
  },
  {
   "cell_type": "code",
   "execution_count": null,
   "id": "0d3ae600",
   "metadata": {},
   "outputs": [],
   "source": [
    "print(felix.speak())"
   ]
  },
  {
   "cell_type": "code",
   "execution_count": null,
   "id": "5d25ee34",
   "metadata": {},
   "outputs": [],
   "source": [
    "for pet in [niko,felix]:\n",
    "    print(type(pet))\n",
    "    print(type(pet.speak()))"
   ]
  },
  {
   "cell_type": "code",
   "execution_count": null,
   "id": "d1ef08e1",
   "metadata": {},
   "outputs": [],
   "source": []
  },
  {
   "cell_type": "code",
   "execution_count": null,
   "id": "0ad1cfce",
   "metadata": {},
   "outputs": [],
   "source": []
  },
  {
   "cell_type": "code",
   "execution_count": null,
   "id": "39a7b146",
   "metadata": {},
   "outputs": [],
   "source": []
  },
  {
   "cell_type": "code",
   "execution_count": null,
   "id": "de2edf4e",
   "metadata": {},
   "outputs": [],
   "source": [
    "class Book():\n",
    "    def __init__(self,title,author,pages):\n",
    "        \n",
    "        self.title = title\n",
    "        self.author = author\n",
    "        self.pages = pages\n",
    "        \n",
    "    def __str__(self):\n",
    "        return f\" {self.title} by {self.author}\"\n",
    "    \n",
    "    def __len__(self):\n",
    "        return self.pages\n",
    "    \n",
    "    def __del__(self):\n",
    "        print(\"A book object has been deleted\")"
   ]
  },
  {
   "cell_type": "code",
   "execution_count": null,
   "id": "15df41ca",
   "metadata": {},
   "outputs": [],
   "source": [
    "b = Book('Python rock', 'Jose', 200)"
   ]
  },
  {
   "cell_type": "code",
   "execution_count": null,
   "id": "c5e8acab",
   "metadata": {},
   "outputs": [],
   "source": [
    "print(b)"
   ]
  },
  {
   "cell_type": "code",
   "execution_count": null,
   "id": "1d732810",
   "metadata": {},
   "outputs": [],
   "source": [
    "len(b)"
   ]
  },
  {
   "cell_type": "code",
   "execution_count": null,
   "id": "05b13bdb",
   "metadata": {},
   "outputs": [],
   "source": [
    "del b"
   ]
  },
  {
   "cell_type": "code",
   "execution_count": null,
   "id": "d03e6dc3",
   "metadata": {},
   "outputs": [],
   "source": []
  },
  {
   "cell_type": "code",
   "execution_count": null,
   "id": "8197d6f6",
   "metadata": {},
   "outputs": [],
   "source": [
    "b"
   ]
  },
  {
   "cell_type": "code",
   "execution_count": null,
   "id": "5b7834ff",
   "metadata": {},
   "outputs": [],
   "source": []
  },
  {
   "cell_type": "markdown",
   "id": "66c12b81",
   "metadata": {},
   "source": [
    "Homework"
   ]
  },
  {
   "cell_type": "code",
   "execution_count": 33,
   "id": "cf71f04c",
   "metadata": {},
   "outputs": [],
   "source": [
    "class Cylinder:\n",
    "    \n",
    "    def __init__(self,height=1,radius=1):\n",
    "        \n",
    "        self.height = height\n",
    "        self.radius = radius\n",
    "                \n",
    "    def volume(self):\n",
    "        return self.height * 3.14 * (self.radius**2)\n",
    "    \n",
    "    def surface_area(self):\n",
    "        return 2*3.14*self.radius*(self.radius + self.height)"
   ]
  },
  {
   "cell_type": "code",
   "execution_count": 34,
   "id": "ba88d4a6",
   "metadata": {},
   "outputs": [],
   "source": [
    "# EXAMPLE OUTPUT\n",
    "mycyl = Cylinder(2,3)"
   ]
  },
  {
   "cell_type": "code",
   "execution_count": 38,
   "id": "c88bfab1",
   "metadata": {},
   "outputs": [
    {
     "data": {
      "text/plain": [
       "56.52"
      ]
     },
     "execution_count": 38,
     "metadata": {},
     "output_type": "execute_result"
    }
   ],
   "source": [
    "mycyl.volume() # dont forget to call using paranthesis"
   ]
  },
  {
   "cell_type": "code",
   "execution_count": 39,
   "id": "29d69fd8",
   "metadata": {},
   "outputs": [
    {
     "data": {
      "text/plain": [
       "94.2"
      ]
     },
     "execution_count": 39,
     "metadata": {},
     "output_type": "execute_result"
    }
   ],
   "source": [
    "mycyl.surface_area()"
   ]
  },
  {
   "cell_type": "code",
   "execution_count": null,
   "id": "ab440497",
   "metadata": {},
   "outputs": [],
   "source": []
  },
  {
   "cell_type": "code",
   "execution_count": null,
   "id": "05eb02cc",
   "metadata": {},
   "outputs": [],
   "source": []
  },
  {
   "cell_type": "markdown",
   "id": "691a2aea",
   "metadata": {},
   "source": [
    "CHALLENGE  \n",
    "Object Oriented Programming Challenge\n",
    "For this challenge, create a bank account class that has two attributes:\n",
    "\n",
    "owner\n",
    "balance\n",
    "and two methods:\n",
    "\n",
    "deposit\n",
    "withdraw\n",
    "As an added requirement, withdrawals may not exceed the available balance.\n",
    "\n",
    "Instantiate your class, make several deposits and withdrawals, and test to make sure the account can't be overdrawn.\n"
   ]
  },
  {
   "cell_type": "code",
   "execution_count": 175,
   "id": "c53d54a5",
   "metadata": {},
   "outputs": [],
   "source": [
    "class Account():\n",
    "    \n",
    "    def __init__(self, owner,balance):\n",
    "        self.owner = owner\n",
    "        self.balance = balance\n",
    "    \n",
    "    def deposit(self,deposit_amount):\n",
    "        self.balance = self.balance + deposit_amount\n",
    "        return self.balance\n",
    "    \n",
    "    def withdrawals (self, withdrawn_amount):\n",
    "        if self.balance >= withdrawn_amount:\n",
    "            self.balance = self.balance - withdrawn_amount\n",
    "            print(f\" Successful withdrawal of {withdrawn_amount}; you balance is now {self.balance}\")\n",
    "        else:\n",
    "            print(f\"Not enough funds, you are short of {self.balance-withdrawn_amount}\")"
   ]
  },
  {
   "cell_type": "code",
   "execution_count": 176,
   "id": "a6cd08a0",
   "metadata": {},
   "outputs": [],
   "source": [
    "my_account = Account(\"Clement\",1000)"
   ]
  },
  {
   "cell_type": "code",
   "execution_count": 177,
   "id": "7f6fe9dc",
   "metadata": {},
   "outputs": [
    {
     "data": {
      "text/plain": [
       "1000"
      ]
     },
     "execution_count": 177,
     "metadata": {},
     "output_type": "execute_result"
    }
   ],
   "source": [
    "my_account.balance"
   ]
  },
  {
   "cell_type": "code",
   "execution_count": 178,
   "id": "958117c4",
   "metadata": {},
   "outputs": [
    {
     "data": {
      "text/plain": [
       "1020"
      ]
     },
     "execution_count": 178,
     "metadata": {},
     "output_type": "execute_result"
    }
   ],
   "source": [
    "my_account.deposit(20)"
   ]
  },
  {
   "cell_type": "code",
   "execution_count": 179,
   "id": "df3322ff",
   "metadata": {},
   "outputs": [
    {
     "data": {
      "text/plain": [
       "1070"
      ]
     },
     "execution_count": 179,
     "metadata": {},
     "output_type": "execute_result"
    }
   ],
   "source": [
    "my_account.deposit(50)"
   ]
  },
  {
   "cell_type": "code",
   "execution_count": 192,
   "id": "b2c0304a",
   "metadata": {},
   "outputs": [
    {
     "name": "stdout",
     "output_type": "stream",
     "text": [
      " Successful withdrawal of 100; you balance is now 0\n"
     ]
    }
   ],
   "source": [
    "my_account.withdrawals(100)"
   ]
  },
  {
   "cell_type": "code",
   "execution_count": 193,
   "id": "c8a26492",
   "metadata": {},
   "outputs": [
    {
     "data": {
      "text/plain": [
       "30"
      ]
     },
     "execution_count": 193,
     "metadata": {},
     "output_type": "execute_result"
    }
   ],
   "source": [
    "my_account.deposit(30)"
   ]
  },
  {
   "cell_type": "code",
   "execution_count": null,
   "id": "e1918c05",
   "metadata": {},
   "outputs": [],
   "source": []
  }
 ],
 "metadata": {
  "kernelspec": {
   "display_name": "Python 3 (ipykernel)",
   "language": "python",
   "name": "python3"
  },
  "language_info": {
   "codemirror_mode": {
    "name": "ipython",
    "version": 3
   },
   "file_extension": ".py",
   "mimetype": "text/x-python",
   "name": "python",
   "nbconvert_exporter": "python",
   "pygments_lexer": "ipython3",
   "version": "3.9.12"
  }
 },
 "nbformat": 4,
 "nbformat_minor": 5
}
