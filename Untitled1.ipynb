{
 "cells": [
  {
   "cell_type": "code",
   "execution_count": null,
   "id": "91536f68",
   "metadata": {},
   "outputs": [],
   "source": [
    "while True:\n",
    "\n",
    "    try:\n",
    "        int1 = input(\"give me an integer >0 \")\n",
    "        int2 = input(\"give me an integer >0 \")\n",
    "        result = int(int1)/int(int2)\n",
    "        print(result)\n",
    "        \n",
    "    except ZeroDivisionError :\n",
    "        print(\"you have a ZeroDivisionError in your code\")\n",
    "        continue\n",
    "\n",
    "    except :\n",
    "        print(\"all other exceptions 0\")\n",
    "        break\n",
    "\n",
    "    finally:\n",
    "        print(\"I always run\")"
   ]
  },
  {
   "cell_type": "code",
   "execution_count": null,
   "id": "aa1b92dd",
   "metadata": {},
   "outputs": [],
   "source": []
  }
 ],
 "metadata": {
  "kernelspec": {
   "display_name": "Python 3 (ipykernel)",
   "language": "python",
   "name": "python3"
  },
  "language_info": {
   "codemirror_mode": {
    "name": "ipython",
    "version": 3
   },
   "file_extension": ".py",
   "mimetype": "text/x-python",
   "name": "python",
   "nbconvert_exporter": "python",
   "pygments_lexer": "ipython3",
   "version": "3.9.12"
  }
 },
 "nbformat": 4,
 "nbformat_minor": 5
}
