{
 "cells": [
  {
   "cell_type": "code",
   "execution_count": null,
   "id": "80b5841b",
   "metadata": {},
   "outputs": [],
   "source": [
    "def add (a,b):\n",
    "    print(a+b)"
   ]
  },
  {
   "cell_type": "code",
   "execution_count": null,
   "id": "be9cf8e6",
   "metadata": {},
   "outputs": [],
   "source": [
    "add(10,20)"
   ]
  },
  {
   "cell_type": "code",
   "execution_count": null,
   "id": "148e8a7d",
   "metadata": {},
   "outputs": [],
   "source": [
    "number1 = 10"
   ]
  },
  {
   "cell_type": "code",
   "execution_count": null,
   "id": "00d5e4a9",
   "metadata": {},
   "outputs": [],
   "source": [
    "number2 = input(\"type in your number\")"
   ]
  },
  {
   "cell_type": "code",
   "execution_count": null,
   "id": "3fbdceb2",
   "metadata": {},
   "outputs": [],
   "source": []
  },
  {
   "cell_type": "code",
   "execution_count": null,
   "id": "35b8a4ae",
   "metadata": {},
   "outputs": [],
   "source": []
  },
  {
   "cell_type": "code",
   "execution_count": null,
   "id": "17a5b46f",
   "metadata": {},
   "outputs": [],
   "source": [
    "try:\n",
    "    #code we want to try\n",
    "    result = 10 + 10\n",
    "except:    \n",
    "    print(\"Hey it looks like your aren't adding correctly\")"
   ]
  },
  {
   "cell_type": "code",
   "execution_count": null,
   "id": "538dcb20",
   "metadata": {},
   "outputs": [],
   "source": [
    "result"
   ]
  },
  {
   "cell_type": "code",
   "execution_count": null,
   "id": "cace3f91",
   "metadata": {},
   "outputs": [],
   "source": [
    "while True:\n",
    "\n",
    "    try:\n",
    "        int1 = input(\"give me an integer >0 \")\n",
    "        int2 = input(\"give me an integer >0 \")\n",
    "        result = int(int1)/int(int2)\n",
    "        print(result)\n",
    "        \n",
    "    except ZeroDivisionError :\n",
    "        print(\"you have a ZeroDivisionError in your code\")\n",
    "        continue\n",
    "\n",
    "    except :\n",
    "        print(\"all other exceptions 0\")\n",
    "        continue\n",
    "\n",
    "    finally:\n",
    "        print(\"I always run\")"
   ]
  },
  {
   "cell_type": "code",
   "execution_count": null,
   "id": "ca6898a1",
   "metadata": {},
   "outputs": [],
   "source": []
  },
  {
   "cell_type": "code",
   "execution_count": null,
   "id": "b180f023",
   "metadata": {},
   "outputs": [],
   "source": []
  }
 ],
 "metadata": {
  "kernelspec": {
   "display_name": "Python 3 (ipykernel)",
   "language": "python",
   "name": "python3"
  },
  "language_info": {
   "codemirror_mode": {
    "name": "ipython",
    "version": 3
   },
   "file_extension": ".py",
   "mimetype": "text/x-python",
   "name": "python",
   "nbconvert_exporter": "python",
   "pygments_lexer": "ipython3",
   "version": "3.9.12"
  }
 },
 "nbformat": 4,
 "nbformat_minor": 5
}
