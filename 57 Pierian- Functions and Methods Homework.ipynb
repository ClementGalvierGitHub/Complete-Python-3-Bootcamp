{
 "cells": [
  {
   "cell_type": "markdown",
   "id": "3309d200",
   "metadata": {},
   "source": [
    "Write a function that computes the volume of a sphere given its radius.\n"
   ]
  },
  {
   "cell_type": "code",
   "execution_count": 3,
   "id": "8758ec56",
   "metadata": {},
   "outputs": [],
   "source": [
    "import numpy as np\n",
    "\n",
    "def sphere_volume (r):\n",
    "    return (4/3)*3.14*r**3"
   ]
  },
  {
   "cell_type": "code",
   "execution_count": 4,
   "id": "76ae58d8",
   "metadata": {},
   "outputs": [
    {
     "data": {
      "text/plain": [
       "33.49333333333333"
      ]
     },
     "execution_count": 4,
     "metadata": {},
     "output_type": "execute_result"
    }
   ],
   "source": [
    "sphere_volume(2)"
   ]
  },
  {
   "cell_type": "markdown",
   "id": "aa259c8d",
   "metadata": {},
   "source": [
    "Write a function that checks whether a number is in a given range (inclusive of high and low)"
   ]
  },
  {
   "cell_type": "code",
   "execution_count": 5,
   "id": "b7109a9e",
   "metadata": {},
   "outputs": [],
   "source": [
    "def func_check_range(high,low,num):\n",
    "    if low<=num<=high:\n",
    "        return f'{num} is between {low} and {high}'\n",
    "    else:\n",
    "        return f'{num} is NOT between {low} and {high}'"
   ]
  },
  {
   "cell_type": "code",
   "execution_count": 6,
   "id": "189276f9",
   "metadata": {},
   "outputs": [
    {
     "data": {
      "text/plain": [
       "'22 is NOT between 80 and 100'"
      ]
     },
     "execution_count": 6,
     "metadata": {},
     "output_type": "execute_result"
    }
   ],
   "source": [
    "func_check_range(100,80,22)"
   ]
  },
  {
   "cell_type": "markdown",
   "id": "2b50b1e9",
   "metadata": {},
   "source": [
    "Write a Python function that accepts a string and calculates the number of upper case letters and lower case letters."
   ]
  },
  {
   "cell_type": "code",
   "execution_count": 98,
   "id": "17c3561a",
   "metadata": {},
   "outputs": [],
   "source": [
    "def count_func (letters):\n",
    "    #counter j\n",
    "    uppercase=0\n",
    "    lowercase=0\n",
    "    \n",
    "    for char in letters:\n",
    "        if char.isupper(): \n",
    "            uppercase+=1\n",
    "        \n",
    "        elif char.islower(): \n",
    "            lowercase+=1\n",
    "        \n",
    "        else:\n",
    "            pass\n",
    "    return f'{uppercase} uppercase + {lowercase} lowercase'"
   ]
  },
  {
   "cell_type": "code",
   "execution_count": 99,
   "id": "ad711420",
   "metadata": {},
   "outputs": [
    {
     "data": {
      "text/plain": [
       "'7 uppercase + 11 lowercase'"
      ]
     },
     "execution_count": 99,
     "metadata": {},
     "output_type": "execute_result"
    }
   ],
   "source": [
    "count_func(\"AoooIKedljhTTjdnQW\")"
   ]
  },
  {
   "cell_type": "markdown",
   "id": "ccf9a9dd",
   "metadata": {},
   "source": [
    "Write a Python function that takes a list and returns a new list with unique elements of the first list."
   ]
  },
  {
   "cell_type": "code",
   "execution_count": 106,
   "id": "db7b432c",
   "metadata": {},
   "outputs": [],
   "source": [
    "def my_func_list (listargument):\n",
    "    seen_numbers = []\n",
    "    \n",
    "    for number in listargument:\n",
    "        if number not in seen_numbers:\n",
    "            seen_numbers.append(number)\n",
    "            \n",
    "        else:\n",
    "            pass\n",
    "    return seen_numbers"
   ]
  },
  {
   "cell_type": "code",
   "execution_count": 107,
   "id": "0de1d768",
   "metadata": {},
   "outputs": [
    {
     "data": {
      "text/plain": [
       "[1, 3, 2, 4, 5, 6, 7, 8, 9]"
      ]
     },
     "execution_count": 107,
     "metadata": {},
     "output_type": "execute_result"
    }
   ],
   "source": [
    "my_func_list([1,3,2,4,5,6,7,8,8,8,9])"
   ]
  },
  {
   "cell_type": "markdown",
   "id": "852a4236",
   "metadata": {},
   "source": [
    "\n",
    "Write a Python function to multiply all the numbers in a list."
   ]
  },
  {
   "cell_type": "code",
   "execution_count": 108,
   "id": "55d6776e",
   "metadata": {},
   "outputs": [],
   "source": [
    "def multiplicator (numbers):\n",
    "    total = 1\n",
    "    for num in numbers:\n",
    "        total = total *num\n",
    "    return total"
   ]
  },
  {
   "cell_type": "code",
   "execution_count": 112,
   "id": "ad681ed0",
   "metadata": {},
   "outputs": [
    {
     "data": {
      "text/plain": [
       "-4.0"
      ]
     },
     "execution_count": 112,
     "metadata": {},
     "output_type": "execute_result"
    }
   ],
   "source": [
    "multiplicator([1,2,4,-0.5])"
   ]
  },
  {
   "cell_type": "markdown",
   "id": "38209f7c",
   "metadata": {},
   "source": [
    "\n",
    "Write a Python function that checks whether a word or phrase is palindrome or not."
   ]
  },
  {
   "cell_type": "code",
   "execution_count": 88,
   "id": "cd6a0fa8",
   "metadata": {},
   "outputs": [],
   "source": [
    "def palindrome (word):\n",
    "    if word[::-1] == word:\n",
    "        return True\n",
    "    else:\n",
    "        return False"
   ]
  },
  {
   "cell_type": "code",
   "execution_count": 92,
   "id": "b7ccb2fd",
   "metadata": {},
   "outputs": [
    {
     "data": {
      "text/plain": [
       "True"
      ]
     },
     "execution_count": 92,
     "metadata": {},
     "output_type": "execute_result"
    }
   ],
   "source": [
    "palindrome(\"tot\")"
   ]
  },
  {
   "cell_type": "code",
   "execution_count": null,
   "id": "c418366d",
   "metadata": {},
   "outputs": [],
   "source": []
  }
 ],
 "metadata": {
  "kernelspec": {
   "display_name": "Python 3 (ipykernel)",
   "language": "python",
   "name": "python3"
  },
  "language_info": {
   "codemirror_mode": {
    "name": "ipython",
    "version": 3
   },
   "file_extension": ".py",
   "mimetype": "text/x-python",
   "name": "python",
   "nbconvert_exporter": "python",
   "pygments_lexer": "ipython3",
   "version": "3.9.12"
  }
 },
 "nbformat": 4,
 "nbformat_minor": 5
}
